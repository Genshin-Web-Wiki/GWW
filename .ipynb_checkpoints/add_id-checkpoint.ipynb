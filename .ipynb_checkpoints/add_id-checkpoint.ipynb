{
 "cells": [
  {
   "cell_type": "code",
   "execution_count": 1,
   "id": "f1a3e455",
   "metadata": {
    "ExecuteTime": {
     "end_time": "2023-03-24T17:09:06.457269Z",
     "start_time": "2023-03-24T17:09:06.454630Z"
    }
   },
   "outputs": [],
   "source": [
    "import json"
   ]
  },
  {
   "cell_type": "code",
   "execution_count": 4,
   "id": "a8a921b7",
   "metadata": {
    "ExecuteTime": {
     "end_time": "2023-03-24T17:18:23.797514Z",
     "start_time": "2023-03-24T17:18:23.770906Z"
    }
   },
   "outputs": [],
   "source": [
    "# Open the JSON file for reading\n",
    "with open('data/characters_info_sorted.json', 'r') as f:\n",
    "    data = json.load(f)\n",
    "\n",
    "# Loop through each object in the JSON file\n",
    "for obj in data:\n",
    "    # Get the name field and convert it to lowercase with '-' instead of spaces\n",
    "    name = obj['name'].lower().replace(' ', '-')\n",
    "    # Create a new 'id' field with the modified name\n",
    "    obj['id'] = name\n",
    "    # Move the 'id' field to the first position in the dictionary\n",
    "    new_obj = {'id': obj.pop('id'), **obj}\n",
    "    obj.clear()\n",
    "    obj.update(new_obj)\n",
    "\n",
    "# Save the modified JSON to a new file\n",
    "with open('data/characters_info.json', 'w') as f:\n",
    "    json.dump(data, f)\n"
   ]
  },
  {
   "cell_type": "code",
   "execution_count": null,
   "id": "9dd8d26e",
   "metadata": {},
   "outputs": [],
   "source": []
  }
 ],
 "metadata": {
  "kernelspec": {
   "display_name": "Python 3 (ipykernel)",
   "language": "python",
   "name": "python3"
  },
  "language_info": {
   "codemirror_mode": {
    "name": "ipython",
    "version": 3
   },
   "file_extension": ".py",
   "mimetype": "text/x-python",
   "name": "python",
   "nbconvert_exporter": "python",
   "pygments_lexer": "ipython3",
   "version": "3.9.12"
  },
  "nbTranslate": {
   "displayLangs": [
    "en",
    "ru"
   ],
   "hotkey": "alt-t",
   "langInMainMenu": true,
   "sourceLang": "ru",
   "targetLang": "en",
   "useGoogleTranslate": true
  },
  "varInspector": {
   "cols": {
    "lenName": 16,
    "lenType": 16,
    "lenVar": 40
   },
   "kernels_config": {
    "python": {
     "delete_cmd_postfix": "",
     "delete_cmd_prefix": "del ",
     "library": "var_list.py",
     "varRefreshCmd": "print(var_dic_list())"
    },
    "r": {
     "delete_cmd_postfix": ") ",
     "delete_cmd_prefix": "rm(",
     "library": "var_list.r",
     "varRefreshCmd": "cat(var_dic_list()) "
    }
   },
   "types_to_exclude": [
    "module",
    "function",
    "builtin_function_or_method",
    "instance",
    "_Feature"
   ],
   "window_display": false
  }
 },
 "nbformat": 4,
 "nbformat_minor": 5
}
