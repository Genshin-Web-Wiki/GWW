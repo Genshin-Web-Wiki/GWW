{
 "cells": [
  {
   "cell_type": "code",
   "execution_count": null,
   "id": "3df7012e",
   "metadata": {},
   "outputs": [],
   "source": []
  },
  {
   "cell_type": "code",
   "execution_count": 1,
   "id": "44ef4cd8",
   "metadata": {
    "ExecuteTime": {
     "end_time": "2023-03-21T09:02:08.684864Z",
     "start_time": "2023-03-21T09:02:06.955922Z"
    }
   },
   "outputs": [
    {
     "name": "stdout",
     "output_type": "stream",
     "text": [
      "Requirement already satisfied: selenium in /opt/miniconda3/envs/ironhack/lib/python3.10/site-packages (3.141.0)\r\n",
      "Requirement already satisfied: urllib3 in /opt/miniconda3/envs/ironhack/lib/python3.10/site-packages (from selenium) (1.26.14)\r\n"
     ]
    }
   ],
   "source": [
    "!pip install selenium"
   ]
  },
  {
   "cell_type": "code",
   "execution_count": 20,
   "id": "ef4e0907",
   "metadata": {
    "ExecuteTime": {
     "end_time": "2023-03-21T10:28:48.846508Z",
     "start_time": "2023-03-21T10:28:48.843545Z"
    }
   },
   "outputs": [],
   "source": [
    "from selenium.webdriver.common.keys import Keys\n",
    "from selenium.webdriver.common.by import By\n",
    "from selenium import webdriver\n",
    "import time\n",
    "import json"
   ]
  },
  {
   "cell_type": "code",
   "execution_count": 2,
   "id": "a6cb7f6c",
   "metadata": {
    "ExecuteTime": {
     "end_time": "2023-03-21T09:21:35.894161Z",
     "start_time": "2023-03-21T09:21:33.791494Z"
    }
   },
   "outputs": [],
   "source": [
    "# Creación del manipulador del navegador\n",
    "options = webdriver.ChromeOptions()\n",
    "driver = webdriver.Chrome('/usr/local/bin/chromedriver', options=options)\n",
    "driver.implicitly_wait(3)"
   ]
  },
  {
   "cell_type": "code",
   "execution_count": 3,
   "id": "b8ccd69e",
   "metadata": {
    "ExecuteTime": {
     "end_time": "2023-03-21T09:21:47.816916Z",
     "start_time": "2023-03-21T09:21:44.132782Z"
    }
   },
   "outputs": [],
   "source": [
    "# Apertura de la página\n",
    "url = 'https://gamewith.net/genshin-impact/'\n",
    "driver.get(url)"
   ]
  },
  {
   "cell_type": "code",
   "execution_count": 4,
   "id": "a2b24207",
   "metadata": {
    "ExecuteTime": {
     "end_time": "2023-03-21T09:21:54.341278Z",
     "start_time": "2023-03-21T09:21:54.245449Z"
    }
   },
   "outputs": [],
   "source": [
    "# Eliminación del banner de los ads\n",
    "driver.find_element(\n",
    "    By.XPATH,\n",
    "    '/html/body/div[13]/div[2]/div[1]/div[2]/div[2]/button[1]').click()"
   ]
  },
  {
   "cell_type": "code",
   "execution_count": 5,
   "id": "636d69f4",
   "metadata": {
    "ExecuteTime": {
     "end_time": "2023-03-21T09:22:02.048877Z",
     "start_time": "2023-03-21T09:22:01.983757Z"
    }
   },
   "outputs": [],
   "source": [
    "# Eliminación del banner de las cookies \n",
    "driver.find_element(By.XPATH, '/html/body/div[2]/div/a/div').click()"
   ]
  },
  {
   "cell_type": "code",
   "execution_count": 25,
   "id": "5c2a187e",
   "metadata": {
    "ExecuteTime": {
     "end_time": "2023-02-03T16:19:18.491190Z",
     "start_time": "2023-02-03T16:19:17.333754Z"
    }
   },
   "outputs": [],
   "source": [
    "# Buscar la seccion de CHARACTERS\n",
    "driver.find_element(\n",
    "    By.XPATH, '/html/body/div[2]/main/section[2]/article/div[1]/a[6]').click()"
   ]
  },
  {
   "cell_type": "code",
   "execution_count": 14,
   "id": "d277fc87",
   "metadata": {
    "ExecuteTime": {
     "end_time": "2023-03-21T09:57:31.873290Z",
     "start_time": "2023-03-21T09:57:31.369065Z"
    }
   },
   "outputs": [
    {
     "data": {
      "text/plain": [
       "['https://gamewith.net/genshin-impact/article/show/23420',\n",
       " 'https://gamewith.net/genshin-impact/article/show/33663',\n",
       " 'https://gamewith.net/genshin-impact/article/show/29597',\n",
       " 'https://gamewith.net/genshin-impact/article/show/22643',\n",
       " 'https://gamewith.net/genshin-impact/article/show/22837',\n",
       " 'https://gamewith.net/genshin-impact/article/show/24635',\n",
       " 'https://gamewith.net/genshin-impact/article/show/22922',\n",
       " 'https://gamewith.net/genshin-impact/article/show/24371',\n",
       " 'https://gamewith.net/genshin-impact/article/show/33787',\n",
       " 'https://gamewith.net/genshin-impact/article/show/29670',\n",
       " 'https://gamewith.net/genshin-impact/article/show/22351',\n",
       " 'https://gamewith.net/genshin-impact/article/show/28610',\n",
       " 'https://gamewith.net/genshin-impact/article/show/25134',\n",
       " 'https://gamewith.net/genshin-impact/article/show/23418',\n",
       " 'https://gamewith.net/genshin-impact/article/show/22642',\n",
       " 'https://gamewith.net/genshin-impact/article/show/23791',\n",
       " 'https://gamewith.net/genshin-impact/article/show/29489',\n",
       " 'https://gamewith.net/genshin-impact/article/show/22356',\n",
       " 'https://gamewith.net/genshin-impact/article/show/24514',\n",
       " 'https://gamewith.net/genshin-impact/article/show/22335',\n",
       " 'https://gamewith.net/genshin-impact/article/show/22348',\n",
       " 'https://gamewith.net/genshin-impact/article/show/24455',\n",
       " 'https://gamewith.net/genshin-impact/article/show/22343',\n",
       " 'https://gamewith.net/genshin-impact/article/show/33274',\n",
       " 'https://gamewith.net/genshin-impact/article/show/31554',\n",
       " 'https://gamewith.net/genshin-impact/article/show/22336',\n",
       " 'https://gamewith.net/genshin-impact/article/show/24184',\n",
       " 'https://gamewith.net/genshin-impact/article/show/23288',\n",
       " 'https://gamewith.net/genshin-impact/article/show/24520',\n",
       " 'https://gamewith.net/genshin-impact/article/show/33276',\n",
       " 'https://gamewith.net/genshin-impact/article/show/22349',\n",
       " 'https://gamewith.net/genshin-impact/article/show/22342',\n",
       " 'https://gamewith.net/genshin-impact/article/show/24650',\n",
       " 'https://gamewith.net/genshin-impact/article/show/33289',\n",
       " 'https://gamewith.net/genshin-impact/article/show/24607',\n",
       " 'https://gamewith.net/genshin-impact/article/show/22838']"
      ]
     },
     "metadata": {},
     "output_type": "display_data"
    }
   ],
   "source": [
    "# Tabla de 5 estrellas\n",
    "link_list = []\n",
    "\n",
    "for i in range(2,11):\n",
    "    fila = f'//*[@id=\"article-body\"]/div[31]/table[1]/tbody/tr[{i}]'\n",
    "    for j in range(1,5):\n",
    "        character = driver.find_element(By.XPATH, f'{fila}/td[{j}]/span/a')\n",
    "        link = character.get_attribute('href')\n",
    "        if \"gamewith.net\" in link:\n",
    "            link_list.append(link)\n",
    "        \n",
    "display(link_list)"
   ]
  },
  {
   "cell_type": "code",
   "execution_count": 15,
   "id": "0bad8bac",
   "metadata": {
    "ExecuteTime": {
     "end_time": "2023-03-21T09:58:47.977548Z",
     "start_time": "2023-03-21T09:58:47.356526Z"
    }
   },
   "outputs": [
    {
     "data": {
      "text/plain": [
       "['https://gamewith.net/genshin-impact/article/show/23420',\n",
       " 'https://gamewith.net/genshin-impact/article/show/33663',\n",
       " 'https://gamewith.net/genshin-impact/article/show/29597',\n",
       " 'https://gamewith.net/genshin-impact/article/show/22643',\n",
       " 'https://gamewith.net/genshin-impact/article/show/22837',\n",
       " 'https://gamewith.net/genshin-impact/article/show/24635',\n",
       " 'https://gamewith.net/genshin-impact/article/show/22922',\n",
       " 'https://gamewith.net/genshin-impact/article/show/24371',\n",
       " 'https://gamewith.net/genshin-impact/article/show/33787',\n",
       " 'https://gamewith.net/genshin-impact/article/show/29670',\n",
       " 'https://gamewith.net/genshin-impact/article/show/22351',\n",
       " 'https://gamewith.net/genshin-impact/article/show/28610',\n",
       " 'https://gamewith.net/genshin-impact/article/show/25134',\n",
       " 'https://gamewith.net/genshin-impact/article/show/23418',\n",
       " 'https://gamewith.net/genshin-impact/article/show/22642',\n",
       " 'https://gamewith.net/genshin-impact/article/show/23791',\n",
       " 'https://gamewith.net/genshin-impact/article/show/29489',\n",
       " 'https://gamewith.net/genshin-impact/article/show/22356',\n",
       " 'https://gamewith.net/genshin-impact/article/show/24514',\n",
       " 'https://gamewith.net/genshin-impact/article/show/22335',\n",
       " 'https://gamewith.net/genshin-impact/article/show/22348',\n",
       " 'https://gamewith.net/genshin-impact/article/show/24455',\n",
       " 'https://gamewith.net/genshin-impact/article/show/22343',\n",
       " 'https://gamewith.net/genshin-impact/article/show/33274',\n",
       " 'https://gamewith.net/genshin-impact/article/show/31554',\n",
       " 'https://gamewith.net/genshin-impact/article/show/22336',\n",
       " 'https://gamewith.net/genshin-impact/article/show/24184',\n",
       " 'https://gamewith.net/genshin-impact/article/show/23288',\n",
       " 'https://gamewith.net/genshin-impact/article/show/24520',\n",
       " 'https://gamewith.net/genshin-impact/article/show/33276',\n",
       " 'https://gamewith.net/genshin-impact/article/show/22349',\n",
       " 'https://gamewith.net/genshin-impact/article/show/22342',\n",
       " 'https://gamewith.net/genshin-impact/article/show/24650',\n",
       " 'https://gamewith.net/genshin-impact/article/show/33289',\n",
       " 'https://gamewith.net/genshin-impact/article/show/24607',\n",
       " 'https://gamewith.net/genshin-impact/article/show/22838',\n",
       " 'https://gamewith.net/genshin-impact/article/show/22355',\n",
       " 'https://gamewith.net/genshin-impact/article/show/22352',\n",
       " 'https://gamewith.net/genshin-impact/article/show/22341',\n",
       " 'https://gamewith.net/genshin-impact/article/show/22347',\n",
       " 'https://gamewith.net/genshin-impact/article/show/34438',\n",
       " 'https://gamewith.net/genshin-impact/article/show/22337',\n",
       " 'https://gamewith.net/genshin-impact/article/show/28969',\n",
       " 'https://gamewith.net/genshin-impact/article/show/22924',\n",
       " 'https://gamewith.net/genshin-impact/article/show/33664',\n",
       " 'https://gamewith.net/genshin-impact/article/show/34437',\n",
       " 'https://gamewith.net/genshin-impact/article/show/22345',\n",
       " 'https://gamewith.net/genshin-impact/article/show/28855',\n",
       " 'https://gamewith.net/genshin-impact/article/show/22353',\n",
       " 'https://gamewith.net/genshin-impact/article/show/28845',\n",
       " 'https://gamewith.net/genshin-impact/article/show/29488',\n",
       " 'https://gamewith.net/genshin-impact/article/show/34439',\n",
       " 'https://gamewith.net/genshin-impact/article/show/22354',\n",
       " 'https://gamewith.net/genshin-impact/article/show/34440',\n",
       " 'https://gamewith.net/genshin-impact/article/show/22340',\n",
       " 'https://gamewith.net/genshin-impact/article/show/22346',\n",
       " 'https://gamewith.net/genshin-impact/article/show/22350',\n",
       " 'https://gamewith.net/genshin-impact/article/show/23585',\n",
       " 'https://gamewith.net/genshin-impact/article/show/24530',\n",
       " 'https://gamewith.net/genshin-impact/article/show/33277',\n",
       " 'https://gamewith.net/genshin-impact/article/show/22344',\n",
       " 'https://gamewith.net/genshin-impact/article/show/24526',\n",
       " 'https://gamewith.net/genshin-impact/article/show/22339',\n",
       " 'https://gamewith.net/genshin-impact/article/show/22338',\n",
       " 'https://gamewith.net/genshin-impact/article/show/22923',\n",
       " 'https://gamewith.net/genshin-impact/article/show/25133',\n",
       " 'https://gamewith.net/genshin-impact/article/show/23804',\n",
       " 'https://gamewith.net/genshin-impact/article/show/24116']"
      ]
     },
     "metadata": {},
     "output_type": "display_data"
    }
   ],
   "source": [
    "# Tabla de 4 estrellas\n",
    "for i in range(12,20):\n",
    "    fila = f'//*[@id=\"article-body\"]/div[31]/table[1]/tbody/tr[{i}]'\n",
    "    for j in range(1,5):\n",
    "        character = driver.find_element(By.XPATH, f'{fila}/td[{j}]/span/a')\n",
    "        link = character.get_attribute('href')\n",
    "        if \"gamewith.net\" in link:\n",
    "            link_list.append(link)\n",
    "        \n",
    "display(link_list)"
   ]
  },
  {
   "cell_type": "code",
   "execution_count": 16,
   "id": "5b79fe0b",
   "metadata": {
    "ExecuteTime": {
     "end_time": "2023-03-21T10:01:26.717874Z",
     "start_time": "2023-03-21T09:59:36.025249Z"
    }
   },
   "outputs": [],
   "source": [
    "for link in link_list:\n",
    "    driver.get(link)\n",
    "    driver.implicitly_wait(3)"
   ]
  },
  {
   "cell_type": "code",
   "execution_count": 25,
   "id": "fd61ea7f",
   "metadata": {
    "ExecuteTime": {
     "end_time": "2023-03-21T10:37:30.269725Z",
     "start_time": "2023-03-21T10:37:28.651053Z"
    }
   },
   "outputs": [
    {
     "name": "stdout",
     "output_type": "stream",
     "text": [
      "['Xiao', 'Albedo', 'Jean', 'Zhongli']\n",
      "- Albedo is one of the few Sub-DPS that works well with Xiao\n",
      "- Zhongli & Albedo together will have Geo Resonance\n",
      "- Jean will act as a battery for Xiao and healer for the whole team\n",
      "Albedo\n"
     ]
    }
   ],
   "source": [
    "driver.get(link_list[0])\n",
    "driver.implicitly_wait(3)\n",
    "premium_team = []\n",
    "for i in range(1,5):\n",
    "    compi = driver.find_element(By.XPATH, f'//*[@id=\"article-body\"]/table[3]/tbody/tr[2]/td[{i}]/a')\n",
    "    compi_nombre = compi.text\n",
    "    premium_team.append(compi_nombre)\n",
    "print(premium_team)\n",
    "details = driver.find_element(By.XPATH, '//*[@id=\"article-body\"]/table[3]/tbody/tr[4]/td').text\n",
    "print(details)\n",
    "\n",
    "nombre = driver.find_element(By.XPATH, '/html/body/div[7]/div/div[1]/div[1]/div[1]/div[1]/h1')\n",
    "nombre = nombre.text.replace(\"Genshin Impact\", \"\").replace(\"Best Build & Weapon\", \"\").strip()\n",
    "print(nombre)"
   ]
  },
  {
   "cell_type": "code",
   "execution_count": 44,
   "id": "6d874f53",
   "metadata": {
    "ExecuteTime": {
     "end_time": "2023-03-21T12:16:55.826143Z",
     "start_time": "2023-03-21T12:15:34.013031Z"
    },
    "lang": "ru"
   },
   "outputs": [
    {
     "name": "stdout",
     "output_type": "stream",
     "text": [
      "['Xiao', 'Albedo', 'Jean', 'Zhongli']\n",
      "['Alhaitham', 'Nahida', 'Xingqiu', 'Kuki Shinobu']\n",
      "['Aloy', 'Hu Tao', 'Venti', 'Bennett']\n",
      "['Anemo Traveler', 'Klee', 'Yelan', 'Bennett']\n",
      "['Ayaka', 'Mona', 'Kazuha', 'Diona']\n",
      "['Ayato', 'Nahida', 'Kuki Shinobu', 'Yun Jin']\n",
      "['Childe', 'Fischl', 'Beidou', 'Sucrose']\n",
      "['Cyno', 'Fischl', 'Nahida', 'Kokomi']\n",
      "['Dehya', 'Ganyu', 'Bennett', 'Nahida']\n",
      "['Dendro Traveler', 'Yae Miko', 'Raiden Shogun', 'Kokomi']\n",
      "['Diluc', 'Xingqiu', 'Bennett', 'Kazuha']\n",
      "['Electro Traveler', 'Childe (Tartaglia)', 'Kazuha', 'Diona']\n",
      "['Eula', 'Raiden Shogun', 'Diona', 'Yun Jin']\n",
      "['Ganyu', 'Xiangling', 'Bennett', 'Zhongli']\n",
      "['Geo Traveler', 'Zhongli', 'Yae Miko', 'Mona']\n",
      "['Hu Tao', 'Yelan', 'Xingqiu', 'Zhongli']\n",
      "['Arataki Itto', 'Gorou', 'Zhongli', 'Raiden Shogun']\n",
      "['Jean', 'Mika', 'Fischl', 'Layla']\n",
      "['Kazuha', 'Nahida', 'Kuki Shinobu', 'Ayato']\n",
      "['Keqing', 'Nahida', 'Kuki Shinobu', 'Zhongli']\n",
      "['Klee', 'Rosaria', 'Kazuha', 'Layla']\n",
      "['Kokomi', 'Nilou', 'Nahida', 'Dendro Traveler']\n",
      "['Mona', 'Fischl', 'Kuki Shinobu', 'Kazuha']\n",
      "['Nahida', 'Cyno', 'Dendro Traveler', 'Kokomi']\n",
      "['Nilou', 'Kokomi', 'Dendro Traveler', 'Nahida']\n",
      "['Eula', 'Fischl', 'Beidou', 'Qiqi']\n",
      "['Raiden Shogun', 'Xiangling', 'Xingqiu', 'Bennett']\n",
      "['Wanderer', 'Faruzan', 'Yelan', 'Bennett']\n",
      "['Ayaka', 'Shenhe', 'Sucrose', 'Diona']\n",
      "['Tighnari', 'Collei', 'Fischl', 'Kuki Shinobu']\n",
      "['Ganyu', 'Mona', 'Venti', 'Diona']\n",
      "['Xiao', 'Albedo', 'Jean', 'Zhongli']\n",
      "['Yae Miko', 'Dendro Traveler', 'Fischl', 'Jean']\n",
      "['Yelan', 'Yoimiya', 'Kazuha', 'Diona']\n",
      "['Yoimiya', 'Raiden Shogun', 'Xingqiu', 'Yun Jin']\n",
      "['Itto', 'Albedo', 'Gorou', 'Zhongli']\n",
      "['Amber', 'Mona', 'Jean', 'Dehya']\n",
      "['Barbara', 'Dendro Traveler', 'Nahida', 'Nilou']\n",
      "['Beidou', 'Nahida', 'Yae Miko', 'Kokomi']\n",
      "['Xiao', 'Albedo', 'Zhongli', 'Bennett']\n",
      "['Candace', 'Ayato', 'Xiangling', 'Bennett']\n",
      "['Chongyun', 'Ayaka', 'Kazuha', 'Kokomi']\n",
      "['Collei', 'Yoimiya', 'Kokomi', 'Yun Jin']\n",
      "['Diona', 'Diluc', 'Venti', 'Xingqiu']\n",
      "['Eula', 'Raiden Shogun', 'Rosaria', 'Dori']\n",
      "['Faruzan', 'Wanderer', 'Yelan', 'Bennett']\n",
      "['Fischl', 'Yoimiya', 'Zhongli', 'Yelan']\n",
      "['Gorou', 'Arataki Itto', 'Albedo', 'Raiden Shogun']\n",
      "['Kaeya', 'Diluc', 'Venti', 'Bennett']\n",
      "['Kujou Sara', 'Yae Miko', 'Kokomi', 'Nahida']\n",
      "['Kuki Shinobu', 'Childe', 'Dendro Traveler', 'Collei']\n",
      "['Layla', 'Ayaka', 'Yelan', 'Kokomi']\n",
      "['Alhaitham', 'Fischl', 'Lisa', 'Yaoyao']\n",
      "['Mika', 'Eula', 'Raiden Shogun', 'Zhongli']\n",
      "['Ningguang', 'Zhongli', 'Raiden Shogun', 'Yelan']\n",
      "['Noelle', 'Albedo', 'Gorou', 'Zhongli']\n",
      "['Razor', 'Fischl', 'Yun Jin', 'Qiqi']\n",
      "['Rosaria', 'Raiden Shogun', 'Yun Jin', 'Diona']\n",
      "['Sayu', 'Ganyu', 'Mona', 'Layla']\n",
      "['Shikanoin Heizou', 'Fischl', 'Xiangling', 'Barbara']\n",
      "['Sucrose', 'Klee', 'Yelan', 'Bennett']\n",
      "['Ayato', 'Nahida', 'Kazuha', 'Thoma']\n",
      "['Xiangling', 'Bennett', 'Childe', 'Kazuha']\n",
      "['Xingqiu', 'Yelan', 'Hu Tao', 'Zhongli']\n",
      "['Xinyan', 'Eula', 'Raiden Shogun', 'Bennett']\n",
      "['Yanfei', 'Xingqiu', 'Zhongli', 'Bennett']\n",
      "['Yaoyao', 'Cyno', 'Nahida', 'Fischl']\n",
      "['Yoimiya', 'Raiden Shogun', 'Jean', 'Yun Jin']\n"
     ]
    }
   ],
   "source": [
    "# Crear una lista para almacenar todos los datos\n",
    "characters_data = []\n",
    "\n",
    "# Iterar a través de la lista de enlaces\n",
    "for link in link_list:\n",
    "    driver.get(link)\n",
    "    driver.implicitly_wait(3)\n",
    "\n",
    "    # Obtener el nombre del héroe\n",
    "    nombre = driver.find_element(\n",
    "        By.XPATH, '/html/body/div[7]/div/div[1]/div[1]/div[1]/div[1]/h1')\n",
    "    nombre = nombre.text.replace(\"Genshin Impact\",\n",
    "                                 \"\").replace(\"Best Build & Weapon\",\n",
    "                                             \"\").strip()\n",
    "\n",
    "    # Obtener los miembros del equipo premium\n",
    "    # Encontrar el elemento que contiene el texto \"Premium Team\"\n",
    "    premium_team_heading = driver.find_element(By.ID, \"2.5\")\n",
    "\n",
    "    # Navegar al elemento de tabla que está justo debajo\n",
    "    premium_team_table = premium_team_heading.find_element(\n",
    "        By.XPATH, \"following-sibling::table\")\n",
    "\n",
    "    # Coger la fila con los nombres de los characters\n",
    "    fila = premium_team_table.find_elements(By.TAG_NAME, \"tr\")[1]\n",
    "\n",
    "    # Extraer lso nombres de los team members\n",
    "    premium_team = []\n",
    "    for text in fila.text.splitlines():\n",
    "        premium_team.append(text)\n",
    "    print(premium_team)\n",
    "\n",
    "    # Obtener los detalles del equipo premium\n",
    "    detalles = premium_team_table.find_elements(By.TAG_NAME, \"tr\")[3].text\n",
    "\n",
    "    # Crear un diccionario con la información del héroe\n",
    "    character_data = {\n",
    "        \"name\": nombre,\n",
    "        \"premium_team\": premium_team,\n",
    "        \"premium_team_details\": detalles\n",
    "    }\n",
    "\n",
    "    # Agregar el diccionario a la lista de datos\n",
    "    characters_data.append(character_data)\n",
    "\n",
    "# Convertir la lista de datos en formato JSON y guardarla en un archivo\n",
    "with open('characters_data.json', 'w') as outfile:\n",
    "    json.dump(characters_data, outfile)"
   ]
  },
  {
   "cell_type": "code",
   "execution_count": null,
   "id": "4e76f4fb",
   "metadata": {},
   "outputs": [],
   "source": [
    "# Encontrar el elemento que contiene el texto \"Premium Team For Albedo\"\n",
    "premium_team_heading = driver.find_element(By.XPATH, \"//*[contains(text(),'Premium Team For Albedo')]\")\n",
    "\n",
    "# Navegar al elemento de tabla que está justo debajo\n",
    "premium_team_table = premium_team_heading.find_element(By.XPATH, \"../following-sibling::table[1]\")\n",
    "\n",
    "# Obtener los miembros del equipo premium\n",
    "premium_team = []\n",
    "for row in premium_team_table.find_elements(By.TAG_NAME, \"tr\")[1:]:\n",
    "    compi_nombre = row.find_elements(By.TAG_NAME, \"td\")[0].text\n",
    "    premium_team.append(compi_nombre)\n"
   ]
  },
  {
   "cell_type": "code",
   "execution_count": 43,
   "id": "7365130e",
   "metadata": {
    "ExecuteTime": {
     "end_time": "2023-03-21T12:14:41.513420Z",
     "start_time": "2023-03-21T12:14:40.042567Z"
    }
   },
   "outputs": [
    {
     "name": "stdout",
     "output_type": "stream",
     "text": [
      "['Alhaitham', 'Nahida', 'Xingqiu', 'Kuki Shinobu']\n"
     ]
    }
   ],
   "source": [
    "driver.get(link_list[1])\n",
    "driver.implicitly_wait(3)\n",
    "\n",
    "# Encontrar el elemento que contiene el texto \"Premium Team For Albedo\"\n",
    "premium_team_heading = driver.find_element(\n",
    "    By.XPATH, \"//*[contains(text(),'Premium Team')]\")\n",
    "\n",
    "# Navegar al elemento de tabla que está justo debajo\n",
    "premium_team_table = premium_team_heading.find_element(\n",
    "    By.XPATH, \"following-sibling::table\")\n",
    "\n",
    "fila = premium_team_table.find_elements(By.TAG_NAME, \"tr\")[1]\n",
    "\n",
    "premium_team = []\n",
    "for text in fila.text.splitlines():\n",
    "    premium_team.append(text)\n",
    "print(premium_team)\n",
    "\n",
    "detalles = premium_team_table.find_elements(By.TAG_NAME, \"tr\")[3].text"
   ]
  },
  {
   "cell_type": "code",
   "execution_count": null,
   "id": "0e76905b",
   "metadata": {},
   "outputs": [],
   "source": [
    "#article-body > table:nth-child(61) > tbody > tr:nth-child(2) > td:nth-child(1) > a\n",
    "#article-body > table:nth-child(43) > tbody > tr:nth-child(2) > td:nth-child(1) > a"
   ]
  },
  {
   "cell_type": "code",
   "execution_count": null,
   "id": "4988e0a1",
   "metadata": {},
   "outputs": [],
   "source": [
    "//*[@id=\"article-body\"]/table[4]/tbody/tr[2]/td[1]/a"
   ]
  },
  {
   "cell_type": "code",
   "execution_count": null,
   "id": "4a8f8437",
   "metadata": {},
   "outputs": [],
   "source": [
    "# XPath del banner de video que aparece aleatoreamente\n",
    "'//*[@id=\"closeIconHit\"]'"
   ]
  },
  {
   "cell_type": "code",
   "execution_count": 26,
   "id": "ebde8a33",
   "metadata": {
    "ExecuteTime": {
     "end_time": "2023-02-03T16:19:22.229106Z",
     "start_time": "2023-02-03T16:19:21.691955Z"
    }
   },
   "outputs": [],
   "source": [
    "# # Escribir \"casa\" en la barra de búsqueda e pulsar Enter\n",
    "# barra_busqueda = driver.find_element(By.XPATH, '/html/body/header/div[2]/div[3]/form/div[1]/div[1]/input[1]')\n",
    "# barra_busqueda.send_keys('casa')\n",
    "# barra_busqueda.send_keys(Keys.ENTER)\n",
    "# driver.implicitly_wait?"
   ]
  }
 ],
 "metadata": {
  "kernelspec": {
   "display_name": "Python 3 (ipykernel)",
   "language": "python",
   "name": "python3"
  },
  "language_info": {
   "codemirror_mode": {
    "name": "ipython",
    "version": 3
   },
   "file_extension": ".py",
   "mimetype": "text/x-python",
   "name": "python",
   "nbconvert_exporter": "python",
   "pygments_lexer": "ipython3",
   "version": "3.9.12"
  },
  "nbTranslate": {
   "displayLangs": [
    "en",
    "ru"
   ],
   "hotkey": "alt-t",
   "langInMainMenu": true,
   "sourceLang": "ru",
   "targetLang": "en",
   "useGoogleTranslate": true
  },
  "toc": {
   "base_numbering": 1,
   "nav_menu": {},
   "number_sections": true,
   "sideBar": true,
   "skip_h1_title": false,
   "title_cell": "Table of Contents",
   "title_sidebar": "Contents",
   "toc_cell": false,
   "toc_position": {},
   "toc_section_display": true,
   "toc_window_display": false
  },
  "varInspector": {
   "cols": {
    "lenName": 16,
    "lenType": 16,
    "lenVar": 40
   },
   "kernels_config": {
    "python": {
     "delete_cmd_postfix": "",
     "delete_cmd_prefix": "del ",
     "library": "var_list.py",
     "varRefreshCmd": "print(var_dic_list())"
    },
    "r": {
     "delete_cmd_postfix": ") ",
     "delete_cmd_prefix": "rm(",
     "library": "var_list.r",
     "varRefreshCmd": "cat(var_dic_list()) "
    }
   },
   "types_to_exclude": [
    "module",
    "function",
    "builtin_function_or_method",
    "instance",
    "_Feature"
   ],
   "window_display": false
  }
 },
 "nbformat": 4,
 "nbformat_minor": 5
}
