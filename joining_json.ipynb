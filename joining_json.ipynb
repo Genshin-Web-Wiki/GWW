{
 "cells": [
  {
   "cell_type": "code",
   "execution_count": 14,
   "id": "da83a0aa",
   "metadata": {
    "ExecuteTime": {
     "end_time": "2023-03-22T15:12:39.306072Z",
     "start_time": "2023-03-22T15:12:39.303551Z"
    }
   },
   "outputs": [],
   "source": [
    "import os\n",
    "import json\n",
    "import chardet"
   ]
  },
  {
   "cell_type": "code",
   "execution_count": 18,
   "id": "697ae803",
   "metadata": {
    "ExecuteTime": {
     "end_time": "2023-03-22T15:13:22.520101Z",
     "start_time": "2023-03-22T15:13:22.517343Z"
    }
   },
   "outputs": [],
   "source": [
    "# define the parent folder path\n",
    "parent_folder_path = \"/Users/anya/Code/GWW/characters_data_genshindev\"\n",
    "\n",
    "# define the output file path\n",
    "output_file_path = \"/Users/anya/Code/GWW/characters_data_genshindev/characters_info_sorted.json\""
   ]
  },
  {
   "cell_type": "code",
   "execution_count": 19,
   "id": "a8c42204",
   "metadata": {
    "ExecuteTime": {
     "end_time": "2023-03-22T15:13:26.467350Z",
     "start_time": "2023-03-22T15:13:25.693821Z"
    }
   },
   "outputs": [],
   "source": [
    "# initialize an empty array to store the data\n",
    "data = []\n",
    "\n",
    "# loop through each folder in the parent folder\n",
    "for folder_name in os.listdir(parent_folder_path):\n",
    "    # get the path of the \"en.json\" file in the folder\n",
    "    file_path = os.path.join(parent_folder_path, folder_name, \"en.json\")\n",
    "    \n",
    "    # check if the file exists\n",
    "    if os.path.exists(file_path):\n",
    "        # detect the encoding of the file\n",
    "        with open(file_path, 'rb') as f:\n",
    "            result = chardet.detect(f.read())\n",
    "            \n",
    "        # read the data from the file with the detected encoding\n",
    "        with open(file_path, encoding=result['encoding']) as f:\n",
    "            folder_data = json.load(f)\n",
    "        \n",
    "        # add the folder data to the main data array\n",
    "        data.append(folder_data)"
   ]
  },
  {
   "cell_type": "code",
   "execution_count": 20,
   "id": "807c49cd",
   "metadata": {
    "ExecuteTime": {
     "end_time": "2023-03-22T15:13:39.165886Z",
     "start_time": "2023-03-22T15:13:39.142610Z"
    }
   },
   "outputs": [],
   "source": [
    "# Sort the data by the \"name\" field\n",
    "data_sorted = sorted(data, key=lambda x: x['name'])\n",
    "\n",
    "# Write the sorted data to the same file\n",
    "with open('data.json', 'w') as f:\n",
    "    json.dump(data_sorted, f, indent=2)"
   ]
  },
  {
   "cell_type": "code",
   "execution_count": 22,
   "id": "738620af",
   "metadata": {
    "ExecuteTime": {
     "end_time": "2023-03-22T15:15:34.141726Z",
     "start_time": "2023-03-22T15:15:34.122607Z"
    }
   },
   "outputs": [],
   "source": [
    "# write the data to the output file\n",
    "with open(output_file_path, \"w\") as f:\n",
    "    json.dump(data_sorted, f)"
   ]
  },
  {
   "cell_type": "code",
   "execution_count": 29,
   "id": "3dc37f41",
   "metadata": {
    "ExecuteTime": {
     "end_time": "2023-03-22T15:20:03.459253Z",
     "start_time": "2023-03-22T15:20:03.455035Z"
    }
   },
   "outputs": [
    {
     "data": {
      "text/plain": [
       "67"
      ]
     },
     "execution_count": 29,
     "metadata": {},
     "output_type": "execute_result"
    }
   ],
   "source": [
    "len(data_sorted)"
   ]
  },
  {
   "cell_type": "code",
   "execution_count": null,
   "id": "62e8e80f",
   "metadata": {},
   "outputs": [],
   "source": []
  }
 ],
 "metadata": {
  "kernelspec": {
   "display_name": "Python 3 (ipykernel)",
   "language": "python",
   "name": "python3"
  },
  "language_info": {
   "codemirror_mode": {
    "name": "ipython",
    "version": 3
   },
   "file_extension": ".py",
   "mimetype": "text/x-python",
   "name": "python",
   "nbconvert_exporter": "python",
   "pygments_lexer": "ipython3",
   "version": "3.9.12"
  },
  "nbTranslate": {
   "displayLangs": [
    "en",
    "ru"
   ],
   "hotkey": "alt-t",
   "langInMainMenu": true,
   "sourceLang": "ru",
   "targetLang": "en",
   "useGoogleTranslate": true
  },
  "varInspector": {
   "cols": {
    "lenName": 16,
    "lenType": 16,
    "lenVar": 40
   },
   "kernels_config": {
    "python": {
     "delete_cmd_postfix": "",
     "delete_cmd_prefix": "del ",
     "library": "var_list.py",
     "varRefreshCmd": "print(var_dic_list())"
    },
    "r": {
     "delete_cmd_postfix": ") ",
     "delete_cmd_prefix": "rm(",
     "library": "var_list.r",
     "varRefreshCmd": "cat(var_dic_list()) "
    }
   },
   "types_to_exclude": [
    "module",
    "function",
    "builtin_function_or_method",
    "instance",
    "_Feature"
   ],
   "window_display": false
  }
 },
 "nbformat": 4,
 "nbformat_minor": 5
}
