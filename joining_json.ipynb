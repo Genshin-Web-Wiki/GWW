{
 "cells": [
  {
   "cell_type": "code",
   "execution_count": null,
   "id": "68a09f22",
   "metadata": {},
   "outputs": [],
   "source": [
    "import os\n",
    "import json\n",
    "\n",
    "# define the parent folder path\n",
    "parent_folder_path = \"/path/to/parent/folder\"\n",
    "\n",
    "# define the output file path\n",
    "output_file_path = \"/path/to/output.json\"\n",
    "\n",
    "# initialize an empty dictionary to store the data\n",
    "data = {}\n",
    "\n",
    "# loop through each folder in the parent folder\n",
    "for folder_name in os.listdir(parent_folder_path):\n",
    "    # get the path of the \"en.json\" file in the folder\n",
    "    file_path = os.path.join(parent_folder_path, folder_name, \"en.json\")\n",
    "    \n",
    "    # check if the file exists\n",
    "    if os.path.exists(file_path):\n",
    "        # read the data from the file\n",
    "        with open(file_path) as f:\n",
    "            folder_data = json.load(f)\n",
    "        \n",
    "        # add the folder data to the main data dictionary\n",
    "        data[folder_name] = folder_data\n",
    "\n",
    "# write the data to the output file\n",
    "with open(output_file_path, \"w\") as f:\n",
    "    json.dump(data, f)\n"
   ]
  }
 ],
 "metadata": {
  "kernelspec": {
   "display_name": "Python 3 (ipykernel)",
   "language": "python",
   "name": "python3"
  },
  "language_info": {
   "codemirror_mode": {
    "name": "ipython",
    "version": 3
   },
   "file_extension": ".py",
   "mimetype": "text/x-python",
   "name": "python",
   "nbconvert_exporter": "python",
   "pygments_lexer": "ipython3",
   "version": "3.9.12"
  },
  "nbTranslate": {
   "displayLangs": [
    "en",
    "ru"
   ],
   "hotkey": "alt-t",
   "langInMainMenu": true,
   "sourceLang": "ru",
   "targetLang": "en",
   "useGoogleTranslate": true
  },
  "varInspector": {
   "cols": {
    "lenName": 16,
    "lenType": 16,
    "lenVar": 40
   },
   "kernels_config": {
    "python": {
     "delete_cmd_postfix": "",
     "delete_cmd_prefix": "del ",
     "library": "var_list.py",
     "varRefreshCmd": "print(var_dic_list())"
    },
    "r": {
     "delete_cmd_postfix": ") ",
     "delete_cmd_prefix": "rm(",
     "library": "var_list.r",
     "varRefreshCmd": "cat(var_dic_list()) "
    }
   },
   "types_to_exclude": [
    "module",
    "function",
    "builtin_function_or_method",
    "instance",
    "_Feature"
   ],
   "window_display": false
  }
 },
 "nbformat": 4,
 "nbformat_minor": 5
}
