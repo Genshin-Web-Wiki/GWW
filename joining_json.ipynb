{
 "cells": [
  {
   "cell_type": "code",
   "execution_count": 10,
   "id": "4a0ee4a3",
   "metadata": {
    "ExecuteTime": {
     "end_time": "2023-03-22T12:26:58.386706Z",
     "start_time": "2023-03-22T12:26:58.383823Z"
    }
   },
   "outputs": [],
   "source": [
    "import os\n",
    "import json\n",
    "import chardet"
   ]
  },
  {
   "cell_type": "code",
   "execution_count": 11,
   "id": "17c79fe7",
   "metadata": {
    "ExecuteTime": {
     "end_time": "2023-03-22T12:27:00.208057Z",
     "start_time": "2023-03-22T12:27:00.205317Z"
    }
   },
   "outputs": [],
   "source": [
    "# define the parent folder path\n",
    "parent_folder_path = \"/Users/anya/Code/GWW/characters_data_genshindev\"\n",
    "\n",
    "# define the output file path\n",
    "output_file_path = \"/Users/anya/Code/GWW/characters_data_genshindev/characters_info.json\""
   ]
  },
  {
   "cell_type": "code",
   "execution_count": 12,
   "id": "4678e1a6",
   "metadata": {
    "ExecuteTime": {
     "end_time": "2023-03-22T12:27:02.815216Z",
     "start_time": "2023-03-22T12:27:02.035677Z"
    }
   },
   "outputs": [],
   "source": [
    "# initialize an empty array to store the data\n",
    "data = []\n",
    "\n",
    "# loop through each folder in the parent folder\n",
    "for folder_name in os.listdir(parent_folder_path):\n",
    "    # get the path of the \"en.json\" file in the folder\n",
    "    file_path = os.path.join(parent_folder_path, folder_name, \"en.json\")\n",
    "    \n",
    "    # check if the file exists\n",
    "    if os.path.exists(file_path):\n",
    "        # detect the encoding of the file\n",
    "        with open(file_path, 'rb') as f:\n",
    "            result = chardet.detect(f.read())\n",
    "            \n",
    "        # read the data from the file with the detected encoding\n",
    "        with open(file_path, encoding=result['encoding']) as f:\n",
    "            folder_data = json.load(f)\n",
    "        \n",
    "        # add the folder data to the main data array\n",
    "        data.append(folder_data)"
   ]
  },
  {
   "cell_type": "code",
   "execution_count": 13,
   "id": "aaa5eaab",
   "metadata": {
    "ExecuteTime": {
     "end_time": "2023-03-22T12:27:04.594498Z",
     "start_time": "2023-03-22T12:27:04.575470Z"
    }
   },
   "outputs": [],
   "source": [
    "# write the data to the output file\n",
    "with open(output_file_path, \"w\") as f:\n",
    "    json.dump(data, f)"
   ]
  },
  {
   "cell_type": "code",
   "execution_count": null,
   "id": "523faea6",
   "metadata": {},
   "outputs": [],
   "source": []
  }
 ],
 "metadata": {
  "kernelspec": {
   "display_name": "Python 3 (ipykernel)",
   "language": "python",
   "name": "python3"
  },
  "language_info": {
   "codemirror_mode": {
    "name": "ipython",
    "version": 3
   },
   "file_extension": ".py",
   "mimetype": "text/x-python",
   "name": "python",
   "nbconvert_exporter": "python",
   "pygments_lexer": "ipython3",
   "version": "3.9.12"
  },
  "nbTranslate": {
   "displayLangs": [
    "en",
    "ru"
   ],
   "hotkey": "alt-t",
   "langInMainMenu": true,
   "sourceLang": "ru",
   "targetLang": "en",
   "useGoogleTranslate": true
  },
  "varInspector": {
   "cols": {
    "lenName": 16,
    "lenType": 16,
    "lenVar": 40
   },
   "kernels_config": {
    "python": {
     "delete_cmd_postfix": "",
     "delete_cmd_prefix": "del ",
     "library": "var_list.py",
     "varRefreshCmd": "print(var_dic_list())"
    },
    "r": {
     "delete_cmd_postfix": ") ",
     "delete_cmd_prefix": "rm(",
     "library": "var_list.r",
     "varRefreshCmd": "cat(var_dic_list()) "
    }
   },
   "types_to_exclude": [
    "module",
    "function",
    "builtin_function_or_method",
    "instance",
    "_Feature"
   ],
   "window_display": false
  }
 },
 "nbformat": 4,
 "nbformat_minor": 5
}
