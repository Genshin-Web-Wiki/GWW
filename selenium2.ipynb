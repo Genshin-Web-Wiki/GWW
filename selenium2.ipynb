{
 "cells": [
  {
   "cell_type": "code",
   "execution_count": 1,
   "id": "ef4e0907",
   "metadata": {
    "ExecuteTime": {
     "end_time": "2023-03-23T12:29:06.814145Z",
     "start_time": "2023-03-23T12:29:06.724498Z"
    }
   },
   "outputs": [],
   "source": [
    "from selenium.webdriver.common.keys import Keys\n",
    "from selenium.webdriver.common.by import By\n",
    "from selenium import webdriver\n",
    "import time\n",
    "import json"
   ]
  },
  {
   "cell_type": "code",
   "execution_count": 42,
   "id": "a6cb7f6c",
   "metadata": {
    "ExecuteTime": {
     "end_time": "2023-03-23T13:09:10.241120Z",
     "start_time": "2023-03-23T13:09:06.571459Z"
    }
   },
   "outputs": [],
   "source": [
    "# Creación del manipulador del navegador\n",
    "options = webdriver.ChromeOptions()\n",
    "driver = webdriver.Chrome('/usr/local/bin/chromedriver', options=options)\n",
    "driver.implicitly_wait(3)"
   ]
  },
  {
   "cell_type": "code",
   "execution_count": 33,
   "id": "b8ccd69e",
   "metadata": {
    "ExecuteTime": {
     "end_time": "2023-03-23T13:03:13.432121Z",
     "start_time": "2023-03-23T13:03:08.400568Z"
    }
   },
   "outputs": [],
   "source": [
    "# Apertura de la página\n",
    "url = 'https://gamewith.net/genshin-impact/'\n",
    "driver.get(url)"
   ]
  },
  {
   "cell_type": "code",
   "execution_count": 34,
   "id": "a2b24207",
   "metadata": {
    "ExecuteTime": {
     "end_time": "2023-03-23T13:04:07.449788Z",
     "start_time": "2023-03-23T13:04:07.336362Z"
    }
   },
   "outputs": [],
   "source": [
    "# Eliminación del banner de los ads\n",
    "driver.find_element(\n",
    "    By.XPATH,\n",
    "    '/html/body/div[13]/div[2]/div[1]/div[2]/div[2]/button[1]').click()"
   ]
  },
  {
   "cell_type": "code",
   "execution_count": 35,
   "id": "636d69f4",
   "metadata": {
    "ExecuteTime": {
     "end_time": "2023-03-23T13:04:11.414845Z",
     "start_time": "2023-03-23T13:04:11.323268Z"
    }
   },
   "outputs": [],
   "source": [
    "# Eliminación del banner de las cookies \n",
    "driver.find_element(By.XPATH, '/html/body/div[2]/div/a/div').click()"
   ]
  },
  {
   "cell_type": "code",
   "execution_count": 18,
   "id": "5c2a187e",
   "metadata": {
    "ExecuteTime": {
     "end_time": "2023-03-23T12:43:06.792742Z",
     "start_time": "2023-03-23T12:43:05.045312Z"
    }
   },
   "outputs": [],
   "source": [
    "# # Buscar la seccion de CHARACTERS\n",
    "# driver.find_element(\n",
    "#     By.XPATH, '//*[contains(text(),\"Character List\")]').click()\n",
    "# driver.implicitly_wait(3)"
   ]
  },
  {
   "cell_type": "code",
   "execution_count": 36,
   "id": "d277fc87",
   "metadata": {
    "ExecuteTime": {
     "end_time": "2023-03-23T13:04:19.036336Z",
     "start_time": "2023-03-23T13:04:18.423327Z"
    }
   },
   "outputs": [],
   "source": [
    "# Tabla de 5 estrellas\n",
    "link_list = []\n",
    "\n",
    "for i in range(2, 11):\n",
    "    fila = f'/html/body/div[3]/div[5]/div[1]/div/div[1]/div[5]/div[29]/table[1]/tbody/tr[{i}]'\n",
    "    for j in range(1, 5):\n",
    "        character = driver.find_element(By.XPATH, f'{fila}/td[{j}]/span/a')\n",
    "        link = character.get_attribute('href')\n",
    "        if \"gamewith.net\" in link:\n",
    "            link_list.append(link)"
   ]
  },
  {
   "cell_type": "code",
   "execution_count": 37,
   "id": "0bad8bac",
   "metadata": {
    "ExecuteTime": {
     "end_time": "2023-03-23T13:04:21.588778Z",
     "start_time": "2023-03-23T13:04:21.041753Z"
    }
   },
   "outputs": [
    {
     "data": {
      "text/plain": [
       "['https://gamewith.net/genshin-impact/article/show/23420',\n",
       " 'https://gamewith.net/genshin-impact/article/show/33663',\n",
       " 'https://gamewith.net/genshin-impact/article/show/29597',\n",
       " 'https://gamewith.net/genshin-impact/article/show/22643',\n",
       " 'https://gamewith.net/genshin-impact/article/show/22837',\n",
       " 'https://gamewith.net/genshin-impact/article/show/24635',\n",
       " 'https://gamewith.net/genshin-impact/article/show/22922',\n",
       " 'https://gamewith.net/genshin-impact/article/show/24371',\n",
       " 'https://gamewith.net/genshin-impact/article/show/33787',\n",
       " 'https://gamewith.net/genshin-impact/article/show/29670',\n",
       " 'https://gamewith.net/genshin-impact/article/show/22351',\n",
       " 'https://gamewith.net/genshin-impact/article/show/28610',\n",
       " 'https://gamewith.net/genshin-impact/article/show/25134',\n",
       " 'https://gamewith.net/genshin-impact/article/show/23418',\n",
       " 'https://gamewith.net/genshin-impact/article/show/22642',\n",
       " 'https://gamewith.net/genshin-impact/article/show/23791',\n",
       " 'https://gamewith.net/genshin-impact/article/show/29489',\n",
       " 'https://gamewith.net/genshin-impact/article/show/22356',\n",
       " 'https://gamewith.net/genshin-impact/article/show/24514',\n",
       " 'https://gamewith.net/genshin-impact/article/show/22335',\n",
       " 'https://gamewith.net/genshin-impact/article/show/22348',\n",
       " 'https://gamewith.net/genshin-impact/article/show/24455',\n",
       " 'https://gamewith.net/genshin-impact/article/show/22343',\n",
       " 'https://gamewith.net/genshin-impact/article/show/33274',\n",
       " 'https://gamewith.net/genshin-impact/article/show/31554',\n",
       " 'https://gamewith.net/genshin-impact/article/show/22336',\n",
       " 'https://gamewith.net/genshin-impact/article/show/24184',\n",
       " 'https://gamewith.net/genshin-impact/article/show/23288',\n",
       " 'https://gamewith.net/genshin-impact/article/show/24520',\n",
       " 'https://gamewith.net/genshin-impact/article/show/33276',\n",
       " 'https://gamewith.net/genshin-impact/article/show/22349',\n",
       " 'https://gamewith.net/genshin-impact/article/show/22342',\n",
       " 'https://gamewith.net/genshin-impact/article/show/24650',\n",
       " 'https://gamewith.net/genshin-impact/article/show/33289',\n",
       " 'https://gamewith.net/genshin-impact/article/show/24607',\n",
       " 'https://gamewith.net/genshin-impact/article/show/22838',\n",
       " 'https://gamewith.net/genshin-impact/article/show/22355',\n",
       " 'https://gamewith.net/genshin-impact/article/show/22352',\n",
       " 'https://gamewith.net/genshin-impact/article/show/22341',\n",
       " 'https://gamewith.net/genshin-impact/article/show/22347',\n",
       " 'https://gamewith.net/genshin-impact/article/show/34438',\n",
       " 'https://gamewith.net/genshin-impact/article/show/22337',\n",
       " 'https://gamewith.net/genshin-impact/article/show/28969',\n",
       " 'https://gamewith.net/genshin-impact/article/show/22924',\n",
       " 'https://gamewith.net/genshin-impact/article/show/33664',\n",
       " 'https://gamewith.net/genshin-impact/article/show/34437',\n",
       " 'https://gamewith.net/genshin-impact/article/show/22345',\n",
       " 'https://gamewith.net/genshin-impact/article/show/28855',\n",
       " 'https://gamewith.net/genshin-impact/article/show/22353',\n",
       " 'https://gamewith.net/genshin-impact/article/show/28845',\n",
       " 'https://gamewith.net/genshin-impact/article/show/29488',\n",
       " 'https://gamewith.net/genshin-impact/article/show/34439',\n",
       " 'https://gamewith.net/genshin-impact/article/show/22354',\n",
       " 'https://gamewith.net/genshin-impact/article/show/34440',\n",
       " 'https://gamewith.net/genshin-impact/article/show/22340',\n",
       " 'https://gamewith.net/genshin-impact/article/show/22346',\n",
       " 'https://gamewith.net/genshin-impact/article/show/22350',\n",
       " 'https://gamewith.net/genshin-impact/article/show/23585',\n",
       " 'https://gamewith.net/genshin-impact/article/show/24530',\n",
       " 'https://gamewith.net/genshin-impact/article/show/33277',\n",
       " 'https://gamewith.net/genshin-impact/article/show/22344',\n",
       " 'https://gamewith.net/genshin-impact/article/show/24526',\n",
       " 'https://gamewith.net/genshin-impact/article/show/22339',\n",
       " 'https://gamewith.net/genshin-impact/article/show/22338',\n",
       " 'https://gamewith.net/genshin-impact/article/show/22923',\n",
       " 'https://gamewith.net/genshin-impact/article/show/25133',\n",
       " 'https://gamewith.net/genshin-impact/article/show/23804',\n",
       " 'https://gamewith.net/genshin-impact/article/show/24116']"
      ]
     },
     "metadata": {},
     "output_type": "display_data"
    }
   ],
   "source": [
    "# Tabla de 4 estrellas\n",
    "for i in range(12,20):\n",
    "    fila = f'/html/body/div[3]/div[5]/div[1]/div/div[1]/div[5]/div[29]/table[1]/tbody/tr[{i}]'\n",
    "    for j in range(1,5):\n",
    "        character = driver.find_element(By.XPATH, f'{fila}/td[{j}]/span/a')\n",
    "        link = character.get_attribute('href')\n",
    "        if \"gamewith.net\" in link:\n",
    "            link_list.append(link)\n",
    "        \n",
    "display(link_list)"
   ]
  },
  {
   "cell_type": "code",
   "execution_count": 16,
   "id": "5b79fe0b",
   "metadata": {
    "ExecuteTime": {
     "end_time": "2023-03-21T10:01:26.717874Z",
     "start_time": "2023-03-21T09:59:36.025249Z"
    }
   },
   "outputs": [],
   "source": [
    "# Test opening all the links\n",
    "for link in link_list:\n",
    "    driver.get(link)\n",
    "    driver.implicitly_wait(3)"
   ]
  },
  {
   "cell_type": "code",
   "execution_count": 56,
   "id": "fd61ea7f",
   "metadata": {
    "ExecuteTime": {
     "end_time": "2023-03-23T13:16:47.492354Z",
     "start_time": "2023-03-23T13:16:45.791082Z"
    }
   },
   "outputs": [
    {
     "name": "stdout",
     "output_type": "stream",
     "text": [
      "['Main DPS Sub-DPS Sub-DPS Support / Shield']\n",
      "['Xiao', 'Albedo', 'Jean', 'Zhongli']\n",
      "- Albedo is one of the few Sub-DPS that works well with Xiao\n",
      "- Zhongli & Albedo together will have Geo Resonance\n",
      "- Jean will act as a battery for Xiao and healer for the whole team\n",
      "Albedo\n"
     ]
    }
   ],
   "source": [
    "# Test for just the first character\n",
    "driver.get(link_list[0])\n",
    "driver.implicitly_wait(3)\n",
    "premium_team = {}\n",
    "premium_team_heading = driver.find_element(By.ID, \"2.5\")\n",
    "\n",
    "# Navegar al elemento de tabla que está justo debajo\n",
    "premium_team_table = premium_team_heading.find_element(\n",
    "    By.XPATH, \"following-sibling::table\")\n",
    "\n",
    "# Coger la fila con los nombres de los characters\n",
    "roles = premium_team_table.find_elements(By.TAG_NAME, \"tr\")[0].text.splitlines()\n",
    "compis = premium_team_table.find_elements(By.TAG_NAME, \"tr\")[1].text.splitlines()\n",
    "print(roles)\n",
    "print(compis)\n",
    "# for i in range(1,5):\n",
    "#     rol = driver.find_element(By.XPATH, f'//*[@id=\"article-body\"]/table[3]/tbody/tr[1]/th[{i}]')\n",
    "#     rol = rol.text\n",
    "#     compi = driver.find_element(By.XPATH, f'//*[@id=\"article-body\"]/table[3]/tbody/tr[2]/td[{i}]/a')\n",
    "#     compi = compi.text\n",
    "#     premium_team[rol] = compi\n",
    "# print(premium_team)\n",
    "details = driver.find_element(\n",
    "    By.XPATH, '//*[@id=\"article-body\"]/table[3]/tbody/tr[4]/td').text\n",
    "print(details)\n",
    "\n",
    "nombre = driver.find_element(\n",
    "    By.XPATH, '/html/body/div[7]/div/div[1]/div[1]/div[1]/div[1]/h1')\n",
    "nombre = nombre.text.replace(\"Genshin Impact\",\n",
    "                             \"\").replace(\"Best Build & Weapon\", \"\").strip()\n",
    "print(nombre)"
   ]
  },
  {
   "cell_type": "code",
   "execution_count": 44,
   "id": "6d874f53",
   "metadata": {
    "ExecuteTime": {
     "end_time": "2023-03-23T13:10:07.309596Z",
     "start_time": "2023-03-23T13:10:05.480541Z"
    },
    "lang": "ru"
   },
   "outputs": [
    {
     "ename": "IndexError",
     "evalue": "list index out of range",
     "output_type": "error",
     "traceback": [
      "\u001b[0;31m---------------------------------------------------------------------------\u001b[0m",
      "\u001b[0;31mIndexError\u001b[0m                                Traceback (most recent call last)",
      "Cell \u001b[0;32mIn[44], line 32\u001b[0m\n\u001b[1;32m     30\u001b[0m premium_team \u001b[38;5;241m=\u001b[39m {}\n\u001b[1;32m     31\u001b[0m \u001b[38;5;28;01mfor\u001b[39;00m i \u001b[38;5;129;01min\u001b[39;00m \u001b[38;5;28mrange\u001b[39m(\u001b[38;5;241m0\u001b[39m,\u001b[38;5;241m4\u001b[39m):\n\u001b[0;32m---> 32\u001b[0m     premium_team[\u001b[43mroles\u001b[49m\u001b[38;5;241;43m.\u001b[39;49m\u001b[43mtext\u001b[49m\u001b[38;5;241;43m.\u001b[39;49m\u001b[43msplitlines\u001b[49m\u001b[43m(\u001b[49m\u001b[43m)\u001b[49m\u001b[43m[\u001b[49m\u001b[43mi\u001b[49m\u001b[43m]\u001b[49m] \u001b[38;5;241m=\u001b[39m compis\u001b[38;5;241m.\u001b[39mtext\u001b[38;5;241m.\u001b[39msplitlines()[i]\n\u001b[1;32m     33\u001b[0m \u001b[38;5;28mprint\u001b[39m(premium_team)\n\u001b[1;32m     35\u001b[0m \u001b[38;5;66;03m# Obtener los detalles del equipo premium\u001b[39;00m\n",
      "\u001b[0;31mIndexError\u001b[0m: list index out of range"
     ]
    }
   ],
   "source": [
    "# Crear una lista para almacenar todos los datos\n",
    "characters_data = []\n",
    "\n",
    "# Iterar a través de la lista de enlaces\n",
    "for link in link_list:\n",
    "    driver.get(link)\n",
    "    driver.implicitly_wait(3)\n",
    "\n",
    "    # Obtener el nombre del héroe\n",
    "    nombre = driver.find_element(\n",
    "        By.XPATH, '/html/body/div[7]/div/div[1]/div[1]/div[1]/div[1]/h1')\n",
    "    nombre = nombre.text.replace(\"Genshin Impact\",\n",
    "                                 \"\").replace(\"Best Build & Weapon\",\n",
    "                                             \"\").strip()\n",
    "\n",
    "    # Obtener los miembros del equipo premium\n",
    "    # Encontrar el elemento que contiene el texto \"Premium Team\"\n",
    "    premium_team_heading = driver.find_element(By.ID, \"2.5\")\n",
    "\n",
    "    # Navegar al elemento de tabla que está justo debajo\n",
    "    premium_team_table = premium_team_heading.find_element(\n",
    "        By.XPATH, \"following-sibling::table\")\n",
    "\n",
    "    # Coger la fila con los nombres de los characters\n",
    "    roles = premium_team_table.find_elements(By.TAG_NAME, \"tr\")[0]\n",
    "    compis = premium_team_table.find_elements(By.TAG_NAME, \"tr\")[1]\n",
    "\n",
    "    # Extraer los nombres de los team members\n",
    "    \n",
    "    premium_team = {}\n",
    "    for i in range(0,4):\n",
    "        premium_team[roles.text.splitlines()[i]] = compis.text.splitlines()[i]\n",
    "    print(premium_team)\n",
    "\n",
    "    # Obtener los detalles del equipo premium\n",
    "    detalles = premium_team_table.find_elements(By.TAG_NAME, \"tr\")[3].text\n",
    "\n",
    "    # Crear un diccionario con la información del héroe\n",
    "    character_data = {\n",
    "        \"name\": nombre,\n",
    "        \"premium_team\": premium_team,\n",
    "        \"premium_team_details\": detalles\n",
    "    }\n",
    "\n",
    "    # Agregar el diccionario a la lista de datos\n",
    "    characters_data.append(character_data)\n",
    "\n",
    "# Convertir la lista de datos en formato JSON y guardarla en un archivo\n",
    "with open('characters_data.json', 'w') as outfile:\n",
    "    json.dump(characters_data, outfile)"
   ]
  },
  {
   "cell_type": "code",
   "execution_count": null,
   "id": "4e76f4fb",
   "metadata": {},
   "outputs": [],
   "source": [
    "# Encontrar el elemento que contiene el texto \"Premium Team For Albedo\"\n",
    "premium_team_heading = driver.find_element(By.XPATH, \"//*[contains(text(),'Premium Team For Albedo')]\")\n",
    "\n",
    "# Navegar al elemento de tabla que está justo debajo\n",
    "premium_team_table = premium_team_heading.find_element(By.XPATH, \"../following-sibling::table[1]\")\n",
    "\n",
    "# Obtener los miembros del equipo premium\n",
    "premium_team = []\n",
    "for row in premium_team_table.find_elements(By.TAG_NAME, \"tr\")[1:]:\n",
    "    compi_nombre = row.find_elements(By.TAG_NAME, \"td\")[0].text\n",
    "    premium_team.append(compi_nombre)\n"
   ]
  },
  {
   "cell_type": "code",
   "execution_count": 43,
   "id": "7365130e",
   "metadata": {
    "ExecuteTime": {
     "end_time": "2023-03-21T12:14:41.513420Z",
     "start_time": "2023-03-21T12:14:40.042567Z"
    }
   },
   "outputs": [
    {
     "name": "stdout",
     "output_type": "stream",
     "text": [
      "['Alhaitham', 'Nahida', 'Xingqiu', 'Kuki Shinobu']\n"
     ]
    }
   ],
   "source": [
    "driver.get(link_list[1])\n",
    "driver.implicitly_wait(3)\n",
    "\n",
    "# Encontrar el elemento que contiene el texto \"Premium Team For Albedo\"\n",
    "premium_team_heading = driver.find_element(\n",
    "    By.XPATH, \"//*[contains(text(),'Premium Team')]\")\n",
    "\n",
    "# Navegar al elemento de tabla que está justo debajo\n",
    "premium_team_table = premium_team_heading.find_element(\n",
    "    By.XPATH, \"following-sibling::table\")\n",
    "\n",
    "fila = premium_team_table.find_elements(By.TAG_NAME, \"tr\")[1]\n",
    "\n",
    "premium_team = []\n",
    "for text in fila.text.splitlines():\n",
    "    premium_team.append(text)\n",
    "print(premium_team)\n",
    "\n",
    "detalles = premium_team_table.find_elements(By.TAG_NAME, \"tr\")[3].text"
   ]
  },
  {
   "cell_type": "code",
   "execution_count": null,
   "id": "0e76905b",
   "metadata": {},
   "outputs": [],
   "source": [
    "#article-body > table:nth-child(61) > tbody > tr:nth-child(2) > td:nth-child(1) > a\n",
    "#article-body > table:nth-child(43) > tbody > tr:nth-child(2) > td:nth-child(1) > a"
   ]
  },
  {
   "cell_type": "code",
   "execution_count": null,
   "id": "4988e0a1",
   "metadata": {},
   "outputs": [],
   "source": [
    "//*[@id=\"article-body\"]/table[4]/tbody/tr[2]/td[1]/a"
   ]
  },
  {
   "cell_type": "code",
   "execution_count": null,
   "id": "4a8f8437",
   "metadata": {},
   "outputs": [],
   "source": [
    "# XPath del banner de video que aparece aleatoreamente\n",
    "'//*[@id=\"closeIconHit\"]'"
   ]
  },
  {
   "cell_type": "code",
   "execution_count": 26,
   "id": "ebde8a33",
   "metadata": {
    "ExecuteTime": {
     "end_time": "2023-02-03T16:19:22.229106Z",
     "start_time": "2023-02-03T16:19:21.691955Z"
    }
   },
   "outputs": [],
   "source": [
    "# # Escribir \"casa\" en la barra de búsqueda e pulsar Enter\n",
    "# barra_busqueda = driver.find_element(By.XPATH, '/html/body/header/div[2]/div[3]/form/div[1]/div[1]/input[1]')\n",
    "# barra_busqueda.send_keys('casa')\n",
    "# barra_busqueda.send_keys(Keys.ENTER)\n",
    "# driver.implicitly_wait?"
   ]
  }
 ],
 "metadata": {
  "kernelspec": {
   "display_name": "Python 3 (ipykernel)",
   "language": "python",
   "name": "python3"
  },
  "language_info": {
   "codemirror_mode": {
    "name": "ipython",
    "version": 3
   },
   "file_extension": ".py",
   "mimetype": "text/x-python",
   "name": "python",
   "nbconvert_exporter": "python",
   "pygments_lexer": "ipython3",
   "version": "3.9.12"
  },
  "nbTranslate": {
   "displayLangs": [
    "en",
    "ru"
   ],
   "hotkey": "alt-t",
   "langInMainMenu": true,
   "sourceLang": "ru",
   "targetLang": "en",
   "useGoogleTranslate": true
  },
  "toc": {
   "base_numbering": 1,
   "nav_menu": {},
   "number_sections": true,
   "sideBar": true,
   "skip_h1_title": false,
   "title_cell": "Table of Contents",
   "title_sidebar": "Contents",
   "toc_cell": false,
   "toc_position": {},
   "toc_section_display": true,
   "toc_window_display": false
  },
  "varInspector": {
   "cols": {
    "lenName": 16,
    "lenType": 16,
    "lenVar": 40
   },
   "kernels_config": {
    "python": {
     "delete_cmd_postfix": "",
     "delete_cmd_prefix": "del ",
     "library": "var_list.py",
     "varRefreshCmd": "print(var_dic_list())"
    },
    "r": {
     "delete_cmd_postfix": ") ",
     "delete_cmd_prefix": "rm(",
     "library": "var_list.r",
     "varRefreshCmd": "cat(var_dic_list()) "
    }
   },
   "types_to_exclude": [
    "module",
    "function",
    "builtin_function_or_method",
    "instance",
    "_Feature"
   ],
   "window_display": false
  }
 },
 "nbformat": 4,
 "nbformat_minor": 5
}
